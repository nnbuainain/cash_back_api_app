{
 "cells": [
  {
   "cell_type": "markdown",
   "metadata": {},
   "source": [
    "# Consume API Test Notebook"
   ]
  },
  {
   "cell_type": "markdown",
   "metadata": {},
   "source": [
    "*CASH_BACK_API_APP*"
   ]
  },
  {
   "cell_type": "markdown",
   "metadata": {},
   "source": [
    "## Description"
   ]
  },
  {
   "cell_type": "markdown",
   "metadata": {},
   "source": [
    "This notebook was created to test the apis developed at the cashback application. Although postman is a great option to test APIs and it was also used here, I believe a notebook serves as a better documentation of the tests carried and the code structure reduces the procedural timing."
   ]
  },
  {
   "cell_type": "markdown",
   "metadata": {},
   "source": [
    "## Tests"
   ]
  },
  {
   "cell_type": "code",
   "execution_count": 5,
   "metadata": {},
   "outputs": [],
   "source": [
    "import json\n",
    "import requests"
   ]
  },
  {
   "cell_type": "code",
   "execution_count": 6,
   "metadata": {},
   "outputs": [],
   "source": [
    "URL = 'http://127.0.0.1:5000'"
   ]
  },
  {
   "cell_type": "markdown",
   "metadata": {},
   "source": [
    "### Costumer"
   ]
  },
  {
   "cell_type": "markdown",
   "metadata": {},
   "source": [
    "#### POST / REGISTER COSTUMER"
   ]
  },
  {
   "cell_type": "code",
   "execution_count": 12,
   "metadata": {},
   "outputs": [],
   "source": [
    "endpoint_register = URL + '/register_costumer'\n",
    "header_register = {'Content-Type' : 'application/json'}"
   ]
  },
  {
   "cell_type": "code",
   "execution_count": 14,
   "metadata": {},
   "outputs": [],
   "source": [
    "body_register = {\n",
    "    'costumer_id_cpf' : '12345678910',\n",
    "    'name' : 'Charles Darwin' \n",
    "}"
   ]
  },
  {
   "cell_type": "code",
   "execution_count": 50,
   "metadata": {},
   "outputs": [],
   "source": [
    "register_response = requests.request('POST', endpoint_register, json = body_register, headers = header_register)"
   ]
  },
  {
   "cell_type": "code",
   "execution_count": 51,
   "metadata": {},
   "outputs": [
    {
     "data": {
      "text/plain": [
       "<Response [200]>"
      ]
     },
     "execution_count": 51,
     "metadata": {},
     "output_type": "execute_result"
    }
   ],
   "source": [
    "register_response"
   ]
  },
  {
   "cell_type": "code",
   "execution_count": 52,
   "metadata": {},
   "outputs": [
    {
     "data": {
      "text/plain": [
       "{'message': \"Costumer with id '12345678910' successfully created\"}"
      ]
     },
     "execution_count": 52,
     "metadata": {},
     "output_type": "execute_result"
    }
   ],
   "source": [
    "register_response.json()"
   ]
  },
  {
   "cell_type": "code",
   "execution_count": 53,
   "metadata": {},
   "outputs": [
    {
     "name": "stdout",
     "output_type": "stream",
     "text": [
      "<Response [200]>\n",
      "{'message': 'User id already registered'}\n"
     ]
    }
   ],
   "source": [
    "# Test id already used\n",
    "register_response = requests.request('POST', endpoint_register, json = body_register, headers = header_register)\n",
    "print(register_response)\n",
    "print(register_response.json())\n",
    "\n"
   ]
  },
  {
   "cell_type": "markdown",
   "metadata": {},
   "source": [
    "#### GET COSTUMER"
   ]
  },
  {
   "cell_type": "code",
   "execution_count": 57,
   "metadata": {},
   "outputs": [],
   "source": [
    "endpoint_get_costumer = URL + '/costumers/12345678910'\n"
   ]
  },
  {
   "cell_type": "code",
   "execution_count": 59,
   "metadata": {},
   "outputs": [],
   "source": [
    "get_user_response = requests.request('GET', endpoint_get_costumer)"
   ]
  },
  {
   "cell_type": "code",
   "execution_count": 60,
   "metadata": {},
   "outputs": [
    {
     "name": "stdout",
     "output_type": "stream",
     "text": [
      "<Response [200]>\n",
      "{'costumer_id_cpf': '12345678910', 'name': 'Charles Darwin'}\n"
     ]
    }
   ],
   "source": [
    "print(get_user_response)\n",
    "print(get_user_response.json())"
   ]
  },
  {
   "cell_type": "markdown",
   "metadata": {},
   "source": [
    "#### DELETE COSTUMER"
   ]
  },
  {
   "cell_type": "code",
   "execution_count": 67,
   "metadata": {},
   "outputs": [
    {
     "data": {
      "text/plain": [
       "{'message': \"Costumer with id '{}' successfully deleted\"}"
      ]
     },
     "execution_count": 67,
     "metadata": {},
     "output_type": "execute_result"
    }
   ],
   "source": [
    "endpoint_get_costumer = URL + '/costumers/66666666666'\n",
    "get_user_response = requests.request('DELETE', endpoint_get_costumer)\n",
    "get_user_response.json()"
   ]
  },
  {
   "cell_type": "code",
   "execution_count": 68,
   "metadata": {},
   "outputs": [
    {
     "data": {
      "text/plain": [
       "{'message': 'Costumer not found'}"
      ]
     },
     "execution_count": 68,
     "metadata": {},
     "output_type": "execute_result"
    }
   ],
   "source": [
    "# Test nonexistent costumer\n",
    "endpoint_get_costumer = URL + '/costumers/66666666666'\n",
    "get_user_response = requests.request('DELETE', endpoint_get_costumer)\n",
    "get_user_response.json()"
   ]
  },
  {
   "cell_type": "markdown",
   "metadata": {},
   "source": [
    "#### GET ALL COSTUMERS"
   ]
  },
  {
   "cell_type": "code",
   "execution_count": 71,
   "metadata": {},
   "outputs": [
    {
     "data": {
      "text/plain": [
       "{'costumers': [{'costumer_id_cpf': '12345678910', 'name': 'Charles Darwin'},\n",
       "  {'costumer_id_cpf': '10987654321', 'name': 'Alfred Russel Wallace'},\n",
       "  {'costumer_id_cpf': '66666666666', 'name': 'Richard Dawkins'}]}"
      ]
     },
     "execution_count": 71,
     "metadata": {},
     "output_type": "execute_result"
    }
   ],
   "source": [
    "endpoint_get_costumers = URL + '/costumers'\n",
    "get_costumers_response = requests.request('GET', endpoint_get_costumer)\n",
    "get_costumers_response.json()\n"
   ]
  },
  {
   "cell_type": "markdown",
   "metadata": {},
   "source": [
    "### Product"
   ]
  },
  {
   "cell_type": "markdown",
   "metadata": {},
   "source": [
    "#### POST PRODUCT"
   ]
  },
  {
   "cell_type": "code",
   "execution_count": 101,
   "metadata": {},
   "outputs": [],
   "source": [
    "\n",
    "endpoint_register_product = URL + '/register_product'\n",
    "header_register_product = {'Content-Type' : 'application/json'}\n",
    "body_register_product = {\n",
    "    'category' : 'c',\n",
    "    'value' : 130.30\n",
    "}\n",
    "register_product_response = requests.request('POST', endpoint_register_product, json = body_register_product, headers = header_register_product)"
   ]
  },
  {
   "cell_type": "code",
   "execution_count": 102,
   "metadata": {},
   "outputs": [
    {
     "data": {
      "text/plain": [
       "{'message': \"Product with id '12' successfully registered\"}"
      ]
     },
     "execution_count": 102,
     "metadata": {},
     "output_type": "execute_result"
    }
   ],
   "source": [
    "register_product_response.json()"
   ]
  },
  {
   "cell_type": "code",
   "execution_count": 104,
   "metadata": {},
   "outputs": [
    {
     "data": {
      "text/plain": [
       "{'message': \"Product Category must be one of the following '['A', 'B', 'C']'. \"}"
      ]
     },
     "execution_count": 104,
     "metadata": {},
     "output_type": "execute_result"
    }
   ],
   "source": [
    "# Try to register product with invalid values\n",
    "\n",
    "\n",
    "body_register_product = {\n",
    "    'category' : 'd',\n",
    "    'value' : 130.30\n",
    "}\n",
    "register_product_response = requests.request('POST', endpoint_register_product, json = body_register_product, headers = header_register_product)\n",
    "register_product_response.json()\n"
   ]
  },
  {
   "cell_type": "code",
   "execution_count": 105,
   "metadata": {},
   "outputs": [
    {
     "data": {
      "text/plain": [
       "{'message': 'Invalid Product value, product value must be a positive decimal value'}"
      ]
     },
     "execution_count": 105,
     "metadata": {},
     "output_type": "execute_result"
    }
   ],
   "source": [
    "# Try to register product with invalid values\n",
    "\n",
    "\n",
    "body_register_product = {\n",
    "    'category' : 'a',\n",
    "    'value' : -1.50\n",
    "}\n",
    "register_product_response = requests.request('POST', endpoint_register_product, json = body_register_product, headers = header_register_product)\n",
    "register_product_response.json()\n"
   ]
  },
  {
   "cell_type": "code",
   "execution_count": 109,
   "metadata": {},
   "outputs": [
    {
     "data": {
      "text/plain": [
       "{'message': {'value': \"Please inform a valid product's value\"}}"
      ]
     },
     "execution_count": 109,
     "metadata": {},
     "output_type": "execute_result"
    }
   ],
   "source": [
    "# Try to register product with invalid values\n",
    "\n",
    "\n",
    "body_register_product = {\n",
    "    'category' : 'a',\n",
    "    'value' : 'as'\n",
    "}\n",
    "register_product_response = requests.request('POST', endpoint_register_product, json = body_register_product, headers = header_register_product)\n",
    "register_product_response.json()\n"
   ]
  },
  {
   "cell_type": "markdown",
   "metadata": {},
   "source": [
    "#### GET PRODUCTS"
   ]
  },
  {
   "cell_type": "code",
   "execution_count": 110,
   "metadata": {},
   "outputs": [
    {
     "data": {
      "text/plain": [
       "{'products': [{'id': 1, 'category': 'A', 'value': 10.0},\n",
       "  {'id': 2, 'category': 'B', 'value': 5.0},\n",
       "  {'id': 3, 'category': 'C', 'value': 15.0},\n",
       "  {'id': 4, 'category': 'C', 'value': 27.0},\n",
       "  {'id': 5, 'category': 'C', 'value': 34.0},\n",
       "  {'id': 6, 'category': 'B', 'value': 8.5},\n",
       "  {'id': 7, 'category': 'B', 'value': 79.49},\n",
       "  {'id': 8, 'category': 'A', 'value': 2.5},\n",
       "  {'id': 9, 'category': 'A', 'value': 12.8},\n",
       "  {'id': 10, 'category': 'A', 'value': 120.3},\n",
       "  {'id': 11, 'category': 'B', 'value': 120.3},\n",
       "  {'id': 12, 'category': 'C', 'value': 130.3}]}"
      ]
     },
     "execution_count": 110,
     "metadata": {},
     "output_type": "execute_result"
    }
   ],
   "source": [
    "endpoint_get_products = URL + '/products'\n",
    "get_products_response = requests.request('GET', endpoint_get_products)\n",
    "get_products_response.json()\n"
   ]
  },
  {
   "cell_type": "markdown",
   "metadata": {},
   "source": [
    "#### DELETE PRODUCT"
   ]
  },
  {
   "cell_type": "code",
   "execution_count": 112,
   "metadata": {},
   "outputs": [
    {
     "data": {
      "text/plain": [
       "{'message': \"Product with id '12' successfully deleted\"}"
      ]
     },
     "execution_count": 112,
     "metadata": {},
     "output_type": "execute_result"
    }
   ],
   "source": [
    "endpoint_delete_product = URL + '/products/12'\n",
    "delete_product_response = requests.request('DELETE', endpoint_delete_product)\n",
    "delete_product_response.json()\n"
   ]
  },
  {
   "cell_type": "code",
   "execution_count": null,
   "metadata": {},
   "outputs": [],
   "source": []
  }
 ],
 "metadata": {
  "kernelspec": {
   "display_name": "Python 3.9.2 64-bit",
   "language": "python",
   "name": "python3"
  },
  "language_info": {
   "codemirror_mode": {
    "name": "ipython",
    "version": 3
   },
   "file_extension": ".py",
   "mimetype": "text/x-python",
   "name": "python",
   "nbconvert_exporter": "python",
   "pygments_lexer": "ipython3",
   "version": "3.9.2"
  },
  "orig_nbformat": 4,
  "vscode": {
   "interpreter": {
    "hash": "aee8b7b246df8f9039afb4144a1f6fd8d2ca17a180786b69acc140d282b71a49"
   }
  }
 },
 "nbformat": 4,
 "nbformat_minor": 2
}
