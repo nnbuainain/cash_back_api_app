{
 "cells": [
  {
   "cell_type": "markdown",
   "metadata": {},
   "source": [
    "# Consume API Test Notebook"
   ]
  },
  {
   "cell_type": "markdown",
   "metadata": {},
   "source": [
    "*CASH_BACK_API_APP*"
   ]
  },
  {
   "cell_type": "markdown",
   "metadata": {},
   "source": [
    "## Description"
   ]
  },
  {
   "cell_type": "markdown",
   "metadata": {},
   "source": [
    "This notebook was created to test the apis developed at the cashback application. Although postman is a great option to test APIs and it was also used here, I believe a notebook serves as a better documentation of the tests carried and the code structure reduces the procedural timing."
   ]
  },
  {
   "cell_type": "markdown",
   "metadata": {},
   "source": [
    "## Tests"
   ]
  },
  {
   "cell_type": "code",
   "execution_count": 5,
   "metadata": {},
   "outputs": [],
   "source": [
    "import json\n",
    "import requests"
   ]
  },
  {
   "cell_type": "code",
   "execution_count": 6,
   "metadata": {},
   "outputs": [],
   "source": [
    "URL = 'http://127.0.0.1:5000'"
   ]
  },
  {
   "cell_type": "markdown",
   "metadata": {},
   "source": [
    "### Costumer"
   ]
  },
  {
   "cell_type": "markdown",
   "metadata": {},
   "source": [
    "#### POST / REGISTER COSTUMER"
   ]
  },
  {
   "cell_type": "code",
   "execution_count": 142,
   "metadata": {},
   "outputs": [],
   "source": [
    "endpoint_register = URL + '/register_costumer'\n",
    "header_register = {'Content-Type' : 'application/json'}"
   ]
  },
  {
   "cell_type": "code",
   "execution_count": 150,
   "metadata": {},
   "outputs": [],
   "source": [
    "body_register = {\n",
    "    'costumer_id_cpf' : '12345678910',\n",
    "    'name' : 'Charles Darwin' \n",
    "}"
   ]
  },
  {
   "cell_type": "code",
   "execution_count": 151,
   "metadata": {},
   "outputs": [],
   "source": [
    "register_response = requests.request('POST', endpoint_register, json = body_register, headers = header_register)"
   ]
  },
  {
   "cell_type": "code",
   "execution_count": 152,
   "metadata": {},
   "outputs": [
    {
     "data": {
      "text/plain": [
       "<Response [200]>"
      ]
     },
     "execution_count": 152,
     "metadata": {},
     "output_type": "execute_result"
    }
   ],
   "source": [
    "register_response"
   ]
  },
  {
   "cell_type": "code",
   "execution_count": 153,
   "metadata": {},
   "outputs": [
    {
     "data": {
      "text/plain": [
       "{'message': \"Costumer with id '66666666666' successfully created\"}"
      ]
     },
     "execution_count": 153,
     "metadata": {},
     "output_type": "execute_result"
    }
   ],
   "source": [
    "register_response.json()"
   ]
  },
  {
   "cell_type": "code",
   "execution_count": 53,
   "metadata": {},
   "outputs": [
    {
     "name": "stdout",
     "output_type": "stream",
     "text": [
      "<Response [200]>\n",
      "{'message': 'User id already registered'}\n"
     ]
    }
   ],
   "source": [
    "# Test id already used\n",
    "register_response = requests.request('POST', endpoint_register, json = body_register, headers = header_register)\n",
    "print(register_response)\n",
    "print(register_response.json())\n",
    "\n"
   ]
  },
  {
   "cell_type": "markdown",
   "metadata": {},
   "source": [
    "#### GET COSTUMER"
   ]
  },
  {
   "cell_type": "code",
   "execution_count": 57,
   "metadata": {},
   "outputs": [],
   "source": [
    "endpoint_get_costumer = URL + '/costumers/12345678910'\n"
   ]
  },
  {
   "cell_type": "code",
   "execution_count": 59,
   "metadata": {},
   "outputs": [],
   "source": [
    "get_user_response = requests.request('GET', endpoint_get_costumer)"
   ]
  },
  {
   "cell_type": "code",
   "execution_count": 60,
   "metadata": {},
   "outputs": [
    {
     "name": "stdout",
     "output_type": "stream",
     "text": [
      "<Response [200]>\n",
      "{'costumer_id_cpf': '12345678910', 'name': 'Charles Darwin'}\n"
     ]
    }
   ],
   "source": [
    "print(get_user_response)\n",
    "print(get_user_response.json())"
   ]
  },
  {
   "cell_type": "markdown",
   "metadata": {},
   "source": [
    "#### DELETE COSTUMER"
   ]
  },
  {
   "cell_type": "code",
   "execution_count": 67,
   "metadata": {},
   "outputs": [
    {
     "data": {
      "text/plain": [
       "{'message': \"Costumer with id '{}' successfully deleted\"}"
      ]
     },
     "execution_count": 67,
     "metadata": {},
     "output_type": "execute_result"
    }
   ],
   "source": [
    "endpoint_get_costumer = URL + '/costumers/66666666666'\n",
    "get_user_response = requests.request('DELETE', endpoint_get_costumer)\n",
    "get_user_response.json()"
   ]
  },
  {
   "cell_type": "code",
   "execution_count": 68,
   "metadata": {},
   "outputs": [
    {
     "data": {
      "text/plain": [
       "{'message': 'Costumer not found'}"
      ]
     },
     "execution_count": 68,
     "metadata": {},
     "output_type": "execute_result"
    }
   ],
   "source": [
    "# Test nonexistent costumer\n",
    "endpoint_get_costumer = URL + '/costumers/66666666666'\n",
    "get_user_response = requests.request('DELETE', endpoint_get_costumer)\n",
    "get_user_response.json()"
   ]
  },
  {
   "cell_type": "markdown",
   "metadata": {},
   "source": [
    "#### GET ALL COSTUMERS"
   ]
  },
  {
   "cell_type": "code",
   "execution_count": 71,
   "metadata": {},
   "outputs": [
    {
     "data": {
      "text/plain": [
       "{'costumers': [{'costumer_id_cpf': '12345678910', 'name': 'Charles Darwin'},\n",
       "  {'costumer_id_cpf': '10987654321', 'name': 'Alfred Russel Wallace'},\n",
       "  {'costumer_id_cpf': '66666666666', 'name': 'Richard Dawkins'}]}"
      ]
     },
     "execution_count": 71,
     "metadata": {},
     "output_type": "execute_result"
    }
   ],
   "source": [
    "endpoint_get_costumers = URL + '/costumers'\n",
    "get_costumers_response = requests.request('GET', endpoint_get_costumer)\n",
    "get_costumers_response.json()\n"
   ]
  },
  {
   "cell_type": "markdown",
   "metadata": {},
   "source": [
    "### Product"
   ]
  },
  {
   "cell_type": "markdown",
   "metadata": {},
   "source": [
    "#### POST PRODUCT"
   ]
  },
  {
   "cell_type": "code",
   "execution_count": 164,
   "metadata": {},
   "outputs": [
    {
     "data": {
      "text/plain": [
       "{'message': \"Product with id '11' successfully registered\"}"
      ]
     },
     "execution_count": 164,
     "metadata": {},
     "output_type": "execute_result"
    }
   ],
   "source": [
    "\n",
    "endpoint_register_product = URL + '/register_product'\n",
    "header_register_product = {'Content-Type' : 'application/json'}\n",
    "body_register_product = {\n",
    "    'category' : 'B',\n",
    "    'value' : 206.10\n",
    "}\n",
    "register_product_response = requests.request('POST', endpoint_register_product, json = body_register_product, headers = header_register_product)\n",
    "register_product_response.json()"
   ]
  },
  {
   "cell_type": "code",
   "execution_count": 104,
   "metadata": {},
   "outputs": [
    {
     "data": {
      "text/plain": [
       "{'message': \"Product Category must be one of the following '['A', 'B', 'C']'. \"}"
      ]
     },
     "execution_count": 104,
     "metadata": {},
     "output_type": "execute_result"
    }
   ],
   "source": [
    "# Try to register product with invalid values\n",
    "\n",
    "\n",
    "body_register_product = {\n",
    "    'category' : 'd',\n",
    "    'value' : 130.30\n",
    "}\n",
    "register_product_response = requests.request('POST', endpoint_register_product, json = body_register_product, headers = header_register_product)\n",
    "register_product_response.json()\n"
   ]
  },
  {
   "cell_type": "code",
   "execution_count": 105,
   "metadata": {},
   "outputs": [
    {
     "data": {
      "text/plain": [
       "{'message': 'Invalid Product value, product value must be a positive decimal value'}"
      ]
     },
     "execution_count": 105,
     "metadata": {},
     "output_type": "execute_result"
    }
   ],
   "source": [
    "# Try to register product with invalid values\n",
    "\n",
    "\n",
    "body_register_product = {\n",
    "    'category' : 'a',\n",
    "    'value' : -1.50\n",
    "}\n",
    "register_product_response = requests.request('POST', endpoint_register_product, json = body_register_product, headers = header_register_product)\n",
    "register_product_response.json()\n"
   ]
  },
  {
   "cell_type": "code",
   "execution_count": 109,
   "metadata": {},
   "outputs": [
    {
     "data": {
      "text/plain": [
       "{'message': {'value': \"Please inform a valid product's value\"}}"
      ]
     },
     "execution_count": 109,
     "metadata": {},
     "output_type": "execute_result"
    }
   ],
   "source": [
    "# Try to register product with invalid values\n",
    "\n",
    "\n",
    "body_register_product = {\n",
    "    'category' : 'a',\n",
    "    'value' : 'as'\n",
    "}\n",
    "register_product_response = requests.request('POST', endpoint_register_product, json = body_register_product, headers = header_register_product)\n",
    "register_product_response.json()\n"
   ]
  },
  {
   "cell_type": "markdown",
   "metadata": {},
   "source": [
    "#### GET PRODUCTS"
   ]
  },
  {
   "cell_type": "code",
   "execution_count": 165,
   "metadata": {},
   "outputs": [
    {
     "data": {
      "text/plain": [
       "{'products': [{'id': 1, 'category': 'C', 'value': 130.3},\n",
       "  {'id': 2, 'category': 'A', 'value': 11.3},\n",
       "  {'id': 3, 'category': 'A', 'value': 44.3},\n",
       "  {'id': 4, 'category': 'B', 'value': 130.3},\n",
       "  {'id': 5, 'category': 'B', 'value': 98.4},\n",
       "  {'id': 6, 'category': 'B', 'value': 17.7},\n",
       "  {'id': 7, 'category': 'A', 'value': 57.1},\n",
       "  {'id': 8, 'category': 'C', 'value': 15.1},\n",
       "  {'id': 9, 'category': 'C', 'value': 15.9},\n",
       "  {'id': 10, 'category': 'C', 'value': 6.3},\n",
       "  {'id': 11, 'category': 'B', 'value': 206.1}]}"
      ]
     },
     "execution_count": 165,
     "metadata": {},
     "output_type": "execute_result"
    }
   ],
   "source": [
    "endpoint_get_products = URL + '/products'\n",
    "get_products_response = requests.request('GET', endpoint_get_products)\n",
    "get_products_response.json()\n"
   ]
  },
  {
   "cell_type": "markdown",
   "metadata": {},
   "source": [
    "#### DELETE PRODUCT"
   ]
  },
  {
   "cell_type": "code",
   "execution_count": 112,
   "metadata": {},
   "outputs": [
    {
     "data": {
      "text/plain": [
       "{'message': \"Product with id '12' successfully deleted\"}"
      ]
     },
     "execution_count": 112,
     "metadata": {},
     "output_type": "execute_result"
    }
   ],
   "source": [
    "endpoint_delete_product = URL + '/products/12'\n",
    "delete_product_response = requests.request('DELETE', endpoint_delete_product)\n",
    "delete_product_response.json()\n"
   ]
  },
  {
   "cell_type": "markdown",
   "metadata": {},
   "source": [
    "### Sale"
   ]
  },
  {
   "cell_type": "markdown",
   "metadata": {},
   "source": [
    "#### POST Sale"
   ]
  },
  {
   "cell_type": "code",
   "execution_count": 170,
   "metadata": {},
   "outputs": [],
   "source": [
    "\n",
    "endpoint_register_sale = URL + '/register_sale'\n",
    "header_register_sale = {'Content-Type' : 'application/json'}\n",
    "body_register_sale = {\n",
    "    \"costumer_id_cpf\" : 12345678910,\n",
    "    \"products_and_quantities\" : [\n",
    "        {\"id\" : 4,\n",
    "        \"quantity\" : 3},\n",
    "        {\"id\" : 5,\n",
    "        \"quantity\" : 12}\n",
    "    ]\n",
    "}\n",
    "register_sale_response = requests.request('POST', endpoint_register_sale, json = body_register_sale, headers = header_register_sale)"
   ]
  },
  {
   "cell_type": "code",
   "execution_count": 171,
   "metadata": {},
   "outputs": [
    {
     "data": {
      "text/plain": [
       "{'sale_id': 3,\n",
       " 'sale_date': '15/09/2022 12:34:10',\n",
       " 'costumer_id_cpf': 12345678910,\n",
       " 'products': [{'id': 4, 'category': 'B', 'value': 130.3, 'quantity': 3},\n",
       "  {'id': 5, 'category': 'B', 'value': 98.4, 'quantity': 12}],\n",
       " 'total': 228.7}"
      ]
     },
     "execution_count": 171,
     "metadata": {},
     "output_type": "execute_result"
    }
   ],
   "source": [
    "register_sale_response.json()"
   ]
  },
  {
   "cell_type": "code",
   "execution_count": 124,
   "metadata": {},
   "outputs": [
    {
     "data": {
      "text/plain": [
       "{'message': 'Costumer not registered in the database'}"
      ]
     },
     "execution_count": 124,
     "metadata": {},
     "output_type": "execute_result"
    }
   ],
   "source": [
    "# Try to post sale with invalid values for product or costumer\n",
    "\n",
    "# Invalid costumer id\n",
    "endpoint_register_sale = URL + '/register_sale'\n",
    "header_register_sale = {'Content-Type' : 'application/json'}\n",
    "body_register_sale = {\n",
    "    \"costumer_id_cpf\" : '00000000000',\n",
    "    \"products_and_quantities\" : [\n",
    "        {\"id\" : 4,\n",
    "        \"quantity\" : 1},\n",
    "        {\"id\" : 5,\n",
    "        \"quantity\" : 12}\n",
    "    ]\n",
    "}\n",
    "register_sale_response = requests.request('POST', endpoint_register_sale, json = body_register_sale, headers = header_register_sale)\n",
    "\n",
    "register_sale_response.json()"
   ]
  },
  {
   "cell_type": "code",
   "execution_count": 128,
   "metadata": {},
   "outputs": [
    {
     "data": {
      "text/plain": [
       "{'message': \"The product with id '20' is not registered in the database\"}"
      ]
     },
     "execution_count": 128,
     "metadata": {},
     "output_type": "execute_result"
    }
   ],
   "source": [
    "# Try to post sale with invalid values for product or costumer\n",
    "\n",
    "# Invalid product id\n",
    "endpoint_register_sale = URL + '/register_sale'\n",
    "header_register_sale = {'Content-Type' : 'application/json'}\n",
    "body_register_sale = {\n",
    "    \"costumer_id_cpf\" : '12345678910',\n",
    "    \"products_and_quantities\" : [\n",
    "        {\"id\" : 20,\n",
    "        \"quantity\" : 1},\n",
    "        {\"id\" : 5,\n",
    "        \"quantity\" : 12}\n",
    "    ]\n",
    "}\n",
    "register_sale_response = requests.request('POST', endpoint_register_sale, json = body_register_sale, headers = header_register_sale)\n",
    "\n",
    "register_sale_response.json()"
   ]
  },
  {
   "cell_type": "code",
   "execution_count": 136,
   "metadata": {},
   "outputs": [
    {
     "data": {
      "text/plain": [
       "{'message': 'Invalid product quantity. Needs to be a number greater than 0'}"
      ]
     },
     "execution_count": 136,
     "metadata": {},
     "output_type": "execute_result"
    }
   ],
   "source": [
    "# Try to post sale with invalid values for product or costumer\n",
    "\n",
    "# Invalid product quantity\n",
    "endpoint_register_sale = URL + '/register_sale'\n",
    "header_register_sale = {'Content-Type' : 'application/json'}\n",
    "body_register_sale = {\n",
    "    \"costumer_id_cpf\" : \"12345678910\",\n",
    "    \"products_and_quantities\" : [\n",
    "        {\"id\" : 1,\n",
    "        \"quantity\" : \"adas\"},\n",
    "        {\"id\" : 5,\n",
    "        \"quantity\" : 12}\n",
    "    ]\n",
    "}\n",
    "register_sale_response = requests.request('POST', endpoint_register_sale, json = body_register_sale, headers = header_register_sale)\n",
    "\n",
    "register_sale_response.json()"
   ]
  },
  {
   "cell_type": "markdown",
   "metadata": {},
   "source": [
    "#### GET SALE"
   ]
  },
  {
   "cell_type": "code",
   "execution_count": 119,
   "metadata": {},
   "outputs": [
    {
     "data": {
      "text/plain": [
       "{'sale_id': 23,\n",
       " 'sale_date': '15/09/2022 08:19:18',\n",
       " 'costumer_id_cpf': 12345678910,\n",
       " 'products': [{'id': 4, 'category': 'C', 'value': 27.0, 'quantity': 1},\n",
       "  {'id': 5, 'category': 'C', 'value': 34.0, 'quantity': 12}],\n",
       " 'total': 61.0}"
      ]
     },
     "execution_count": 119,
     "metadata": {},
     "output_type": "execute_result"
    }
   ],
   "source": [
    "endpoint_get_sale = URL + '/sales/' + '23'\n",
    "get_sale_response = requests.request('GET', endpoint_get_sale)\n",
    "get_sale_response.json()\n"
   ]
  },
  {
   "cell_type": "markdown",
   "metadata": {},
   "source": [
    "#### GET SALES"
   ]
  },
  {
   "cell_type": "code",
   "execution_count": 172,
   "metadata": {},
   "outputs": [
    {
     "data": {
      "text/plain": [
       "{'sales': [{'sale_id': 1,\n",
       "   'sale_date': '15/09/2022 12:31:37',\n",
       "   'costumer_id_cpf': 12345678910,\n",
       "   'products': [{'id': 4, 'category': 'B', 'value': 130.3, 'quantity': 1},\n",
       "    {'id': 5, 'category': 'B', 'value': 98.4, 'quantity': 12}],\n",
       "   'total': 228.70000000000002},\n",
       "  {'sale_id': 2,\n",
       "   'sale_date': '15/09/2022 12:32:39',\n",
       "   'costumer_id_cpf': 12345678910,\n",
       "   'products': [{'id': 10, 'category': 'C', 'value': 6.3, 'quantity': 3},\n",
       "    {'id': 3, 'category': 'A', 'value': 44.3, 'quantity': 12}],\n",
       "   'total': 50.599999999999994},\n",
       "  {'sale_id': 3,\n",
       "   'sale_date': '15/09/2022 12:34:10',\n",
       "   'costumer_id_cpf': 12345678910,\n",
       "   'products': [{'id': 4, 'category': 'B', 'value': 130.3, 'quantity': 3},\n",
       "    {'id': 5, 'category': 'B', 'value': 98.4, 'quantity': 12}],\n",
       "   'total': 228.7}]}"
      ]
     },
     "execution_count": 172,
     "metadata": {},
     "output_type": "execute_result"
    }
   ],
   "source": [
    "endpoint_get_sales = URL + '/sales'\n",
    "get_sales_response = requests.request('GET', endpoint_get_sales)\n",
    "get_sales_response.json()\n"
   ]
  },
  {
   "cell_type": "markdown",
   "metadata": {},
   "source": [
    "#### DELETE SALE"
   ]
  },
  {
   "cell_type": "code",
   "execution_count": 121,
   "metadata": {},
   "outputs": [
    {
     "data": {
      "text/plain": [
       "{'message': \"Sale with id '2' successfully deleted\"}"
      ]
     },
     "execution_count": 121,
     "metadata": {},
     "output_type": "execute_result"
    }
   ],
   "source": [
    "endpoint_delete_sale = URL + '/sales/' + '2'\n",
    "delete_sale_response = requests.request('DELETE', endpoint_delete_sale)\n",
    "delete_sale_response.json()\n"
   ]
  },
  {
   "cell_type": "code",
   "execution_count": 122,
   "metadata": {},
   "outputs": [
    {
     "data": {
      "text/plain": [
       "{'message': 'Sale not found'}"
      ]
     },
     "execution_count": 122,
     "metadata": {},
     "output_type": "execute_result"
    }
   ],
   "source": [
    "# Delete non existent sale\n",
    "endpoint_delete_sale = URL + '/sales/' + '70'\n",
    "delete_sale_response = requests.request('DELETE', endpoint_delete_sale)\n",
    "delete_sale_response.json()\n"
   ]
  },
  {
   "cell_type": "markdown",
   "metadata": {},
   "source": [
    "### CASHBACK"
   ]
  },
  {
   "cell_type": "markdown",
   "metadata": {},
   "source": [
    "#### POST CASHBACK"
   ]
  },
  {
   "cell_type": "code",
   "execution_count": 174,
   "metadata": {},
   "outputs": [
    {
     "data": {
      "text/plain": [
       "{'cashback_id': 1,\n",
       " 'cashback_total': 17.837999999999997,\n",
       " 'api_response': {'createdAt': '2022-09-15T13:03:00.816Z',\n",
       "  'message': 'Cashback criado com sucesso!',\n",
       "  'id': '32',\n",
       "  'document': 12345678910,\n",
       "  'cashback': 17.837999999999997},\n",
       " 'sale_id': 2}"
      ]
     },
     "execution_count": 174,
     "metadata": {},
     "output_type": "execute_result"
    }
   ],
   "source": [
    "\n",
    "endpoint_register_cashback = URL + '/register_cashback'\n",
    "header_register_cashback = {'Content-Type' : 'application/json'}\n",
    "body_register_cashback = {\n",
    "    \"sale_id\" : 2\n",
    "}\n",
    "register_cashback_response = requests.request('POST', endpoint_register_cashback, json = body_register_cashback, headers = header_register_cashback)\n",
    "\n",
    "register_cashback_response.json()"
   ]
  },
  {
   "cell_type": "code",
   "execution_count": 177,
   "metadata": {},
   "outputs": [
    {
     "data": {
      "text/plain": [
       "{'message': 'You already cashbacked this sale'}"
      ]
     },
     "execution_count": 177,
     "metadata": {},
     "output_type": "execute_result"
    }
   ],
   "source": [
    "# Try to cashback a sale already cashed\n",
    "endpoint_register_cashback = URL + '/register_cashback'\n",
    "header_register_cashback = {'Content-Type' : 'application/json'}\n",
    "body_register_cashback = {\n",
    "    \"sale_id\" : 1\n",
    "}\n",
    "register_cashback_response = requests.request('POST', endpoint_register_cashback, json = body_register_cashback, headers = header_register_cashback)\n",
    "\n",
    "register_cashback_response.json()"
   ]
  },
  {
   "cell_type": "markdown",
   "metadata": {},
   "source": [
    "#### GET CASHBACK"
   ]
  },
  {
   "cell_type": "code",
   "execution_count": 179,
   "metadata": {},
   "outputs": [
    {
     "data": {
      "text/plain": [
       "{'cashback_id': 1,\n",
       " 'cashback_total': 65.56,\n",
       " 'api_response': {'createdAt': '2022-09-15T09:56:01.400Z',\n",
       "  'message': 'Cashback criado com sucesso!',\n",
       "  'id': '35',\n",
       "  'document': 12345678910,\n",
       "  'cashback': 65.56},\n",
       " 'sale_id': 1}"
      ]
     },
     "execution_count": 179,
     "metadata": {},
     "output_type": "execute_result"
    }
   ],
   "source": [
    "endpoint_get_cashback = URL + '/cashbacks/' + '1'\n",
    "get_cashback_response = requests.request('GET', endpoint_get_cashback)\n",
    "get_cashback_response.json()\n"
   ]
  },
  {
   "cell_type": "markdown",
   "metadata": {},
   "source": [
    "#### GET CASHBACKS"
   ]
  },
  {
   "cell_type": "code",
   "execution_count": 180,
   "metadata": {},
   "outputs": [
    {
     "data": {
      "text/plain": [
       "{'cashbacks': [{'cashback_id': 1,\n",
       "   'cashback_total': 65.56,\n",
       "   'api_response': {'createdAt': '2022-09-15T09:56:01.400Z',\n",
       "    'message': 'Cashback criado com sucesso!',\n",
       "    'id': '35',\n",
       "    'document': 12345678910,\n",
       "    'cashback': 65.56},\n",
       "   'sale_id': 1},\n",
       "  {'cashback_id': 2,\n",
       "   'cashback_total': 17.84,\n",
       "   'api_response': {'createdAt': '2022-09-15T00:58:42.029Z',\n",
       "    'message': 'Cashback criado com sucesso!',\n",
       "    'id': '36',\n",
       "    'document': 12345678910,\n",
       "    'cashback': 17.84},\n",
       "   'sale_id': 2},\n",
       "  {'cashback_id': 3,\n",
       "   'cashback_total': 78.59,\n",
       "   'api_response': {'createdAt': '2022-09-15T07:31:48.322Z',\n",
       "    'message': 'Cashback criado com sucesso!',\n",
       "    'id': '37',\n",
       "    'document': 12345678910,\n",
       "    'cashback': 78.59},\n",
       "   'sale_id': 3}]}"
      ]
     },
     "execution_count": 180,
     "metadata": {},
     "output_type": "execute_result"
    }
   ],
   "source": [
    "endpoint_get_cashbacks = URL + '/cashbacks'\n",
    "get_cashbacks_response = requests.request('GET', endpoint_get_cashbacks)\n",
    "get_cashbacks_response.json()\n"
   ]
  },
  {
   "cell_type": "code",
   "execution_count": null,
   "metadata": {},
   "outputs": [],
   "source": []
  }
 ],
 "metadata": {
  "kernelspec": {
   "display_name": "Python 3.9.2 64-bit",
   "language": "python",
   "name": "python3"
  },
  "language_info": {
   "codemirror_mode": {
    "name": "ipython",
    "version": 3
   },
   "file_extension": ".py",
   "mimetype": "text/x-python",
   "name": "python",
   "nbconvert_exporter": "python",
   "pygments_lexer": "ipython3",
   "version": "3.9.2"
  },
  "orig_nbformat": 4,
  "vscode": {
   "interpreter": {
    "hash": "aee8b7b246df8f9039afb4144a1f6fd8d2ca17a180786b69acc140d282b71a49"
   }
  }
 },
 "nbformat": 4,
 "nbformat_minor": 2
}
